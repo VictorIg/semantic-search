{
 "cells": [
  {
   "cell_type": "markdown",
   "metadata": {},
   "source": [
    "# <p style=\"text-align: center;\">  Semantic Searcrh - Proof of Concept </p>\n",
    "#### <p style=\"text-align: right;\"> Andrei-Cristian Rad, DataScotus </p>"
   ]
  },
  {
   "cell_type": "markdown",
   "metadata": {},
   "source": [
    "This notebook presents a proof of concept for a semantic search engine. \n",
    "\n",
    "The notebook facilitates testing the search feature by querying a document database. As a result, it will return the most similar documents to the input query."
   ]
  },
  {
   "cell_type": "markdown",
   "metadata": {},
   "source": [
    "# Setup"
   ]
  },
  {
   "cell_type": "markdown",
   "metadata": {},
   "source": [
    "### Install Dependencies \n",
    "\n",
    "Install the Python dependencies required by this notebook"
   ]
  },
  {
   "cell_type": "code",
   "execution_count": 1,
   "metadata": {
    "pycharm": {
     "is_executing": false
    }
   },
   "outputs": [],
   "source": [
    "!pip install --disable-pip-version-check -q pandas\n",
    "!pip install --disable-pip-version-check -q numpy\n",
    "!pip install --disable-pip-version-check -q nltk\n",
    "!pip install --disable-pip-version-check -q sentence-transformers"
   ]
  },
  {
   "cell_type": "markdown",
   "metadata": {},
   "source": [
    "### Load Data\n",
    "\n",
    "Load the CSV data from the source file into a Pandas dataframe"
   ]
  },
  {
   "cell_type": "code",
   "execution_count": 2,
   "metadata": {
    "pycharm": {
     "is_executing": false,
     "name": "#%%\n"
    }
   },
   "outputs": [
    {
     "data": {
      "text/html": [
       "<div>\n",
       "<style scoped>\n",
       "    .dataframe tbody tr th:only-of-type {\n",
       "        vertical-align: middle;\n",
       "    }\n",
       "\n",
       "    .dataframe tbody tr th {\n",
       "        vertical-align: top;\n",
       "    }\n",
       "\n",
       "    .dataframe thead th {\n",
       "        text-align: right;\n",
       "    }\n",
       "</style>\n",
       "<table border=\"1\" class=\"dataframe\">\n",
       "  <thead>\n",
       "    <tr style=\"text-align: right;\">\n",
       "      <th></th>\n",
       "      <th>id</th>\n",
       "      <th>date</th>\n",
       "      <th>title</th>\n",
       "      <th>full_body</th>\n",
       "    </tr>\n",
       "  </thead>\n",
       "  <tbody>\n",
       "    <tr>\n",
       "      <th>0</th>\n",
       "      <td>11</td>\n",
       "      <td>2020-12-05 20:28:00</td>\n",
       "      <td>PS5 GPU : The PS5 Pro could potentially have a...</td>\n",
       "      <td>It's only been 2 weeks since the worldwide lau...</td>\n",
       "    </tr>\n",
       "    <tr>\n",
       "      <th>1</th>\n",
       "      <td>12</td>\n",
       "      <td>2020-12-04 14:48:00</td>\n",
       "      <td>AMD Smart Access Memory Enabled on Intel Z490 ...</td>\n",
       "      <td>Several motherboard makers have started adding...</td>\n",
       "    </tr>\n",
       "    <tr>\n",
       "      <th>2</th>\n",
       "      <td>13</td>\n",
       "      <td>2020-12-02 16:00:00</td>\n",
       "      <td>Snapdragon 888 fully unveiled: the first with ...</td>\n",
       "      <td>After yesterday's preview, Qualcomm fully unve...</td>\n",
       "    </tr>\n",
       "    <tr>\n",
       "      <th>3</th>\n",
       "      <td>14</td>\n",
       "      <td>2020-11-20 22:16:00</td>\n",
       "      <td>AMD Will Bring Smart Access Memory Support to ...</td>\n",
       "      <td>When AMD announced its Smart Access Memory, it...</td>\n",
       "    </tr>\n",
       "    <tr>\n",
       "      <th>4</th>\n",
       "      <td>15</td>\n",
       "      <td>2020-11-25 19:32:00</td>\n",
       "      <td>The best mini gaming PC: the top small PC buil...</td>\n",
       "      <td>PCs don't have to be enormous machines and bui...</td>\n",
       "    </tr>\n",
       "  </tbody>\n",
       "</table>\n",
       "</div>"
      ],
      "text/plain": [
       "   id                 date                                              title  \\\n",
       "0  11  2020-12-05 20:28:00  PS5 GPU : The PS5 Pro could potentially have a...   \n",
       "1  12  2020-12-04 14:48:00  AMD Smart Access Memory Enabled on Intel Z490 ...   \n",
       "2  13  2020-12-02 16:00:00  Snapdragon 888 fully unveiled: the first with ...   \n",
       "3  14  2020-11-20 22:16:00  AMD Will Bring Smart Access Memory Support to ...   \n",
       "4  15  2020-11-25 19:32:00  The best mini gaming PC: the top small PC buil...   \n",
       "\n",
       "                                           full_body  \n",
       "0  It's only been 2 weeks since the worldwide lau...  \n",
       "1  Several motherboard makers have started adding...  \n",
       "2  After yesterday's preview, Qualcomm fully unve...  \n",
       "3  When AMD announced its Smart Access Memory, it...  \n",
       "4  PCs don't have to be enormous machines and bui...  "
      ]
     },
     "execution_count": 2,
     "metadata": {},
     "output_type": "execute_result"
    }
   ],
   "source": [
    "import pandas as pd\n",
    "\n",
    "data_path = '../data/articles.csv'\n",
    "df = pd.read_csv(data_path)\n",
    "df.head(5)"
   ]
  },
  {
   "cell_type": "markdown",
   "metadata": {},
   "source": [
    "The data provided contains 4 columns, described by the following properties:"
   ]
  },
  {
   "cell_type": "code",
   "execution_count": 3,
   "metadata": {
    "pycharm": {
     "is_executing": false
    }
   },
   "outputs": [
    {
     "name": "stdout",
     "output_type": "stream",
     "text": [
      "<class 'pandas.core.frame.DataFrame'>\n",
      "RangeIndex: 1753 entries, 0 to 1752\n",
      "Data columns (total 4 columns):\n",
      " #   Column     Non-Null Count  Dtype \n",
      "---  ------     --------------  ----- \n",
      " 0   id         1753 non-null   int64 \n",
      " 1   date       1753 non-null   object\n",
      " 2   title      1752 non-null   object\n",
      " 3   full_body  1753 non-null   object\n",
      "dtypes: int64(1), object(3)\n",
      "memory usage: 54.9+ KB\n"
     ]
    }
   ],
   "source": [
    "df.info()"
   ]
  },
  {
   "cell_type": "markdown",
   "metadata": {},
   "source": [
    "For the text similarity, the only data we are interested in is the body of the text, therefore we can drop all the other columns."
   ]
  },
  {
   "cell_type": "code",
   "execution_count": 4,
   "metadata": {
    "pycharm": {
     "is_executing": false
    }
   },
   "outputs": [],
   "source": [
    "# Rename the full_body column to document for more clarity\n",
    "df.rename(columns={'full_body': 'document'}, inplace=True)\n",
    "\n",
    "# Drop the columns that will not be used for similarity\n",
    "df.drop(columns=['id', 'date', 'title'], inplace=True)"
   ]
  },
  {
   "cell_type": "code",
   "execution_count": 5,
   "metadata": {
    "pycharm": {
     "is_executing": false
    }
   },
   "outputs": [
    {
     "data": {
      "text/html": [
       "<div>\n",
       "<style scoped>\n",
       "    .dataframe tbody tr th:only-of-type {\n",
       "        vertical-align: middle;\n",
       "    }\n",
       "\n",
       "    .dataframe tbody tr th {\n",
       "        vertical-align: top;\n",
       "    }\n",
       "\n",
       "    .dataframe thead th {\n",
       "        text-align: right;\n",
       "    }\n",
       "</style>\n",
       "<table border=\"1\" class=\"dataframe\">\n",
       "  <thead>\n",
       "    <tr style=\"text-align: right;\">\n",
       "      <th></th>\n",
       "      <th>document</th>\n",
       "    </tr>\n",
       "  </thead>\n",
       "  <tbody>\n",
       "    <tr>\n",
       "      <th>0</th>\n",
       "      <td>It's only been 2 weeks since the worldwide lau...</td>\n",
       "    </tr>\n",
       "    <tr>\n",
       "      <th>1</th>\n",
       "      <td>Several motherboard makers have started adding...</td>\n",
       "    </tr>\n",
       "    <tr>\n",
       "      <th>2</th>\n",
       "      <td>After yesterday's preview, Qualcomm fully unve...</td>\n",
       "    </tr>\n",
       "    <tr>\n",
       "      <th>3</th>\n",
       "      <td>When AMD announced its Smart Access Memory, it...</td>\n",
       "    </tr>\n",
       "    <tr>\n",
       "      <th>4</th>\n",
       "      <td>PCs don't have to be enormous machines and bui...</td>\n",
       "    </tr>\n",
       "  </tbody>\n",
       "</table>\n",
       "</div>"
      ],
      "text/plain": [
       "                                            document\n",
       "0  It's only been 2 weeks since the worldwide lau...\n",
       "1  Several motherboard makers have started adding...\n",
       "2  After yesterday's preview, Qualcomm fully unve...\n",
       "3  When AMD announced its Smart Access Memory, it...\n",
       "4  PCs don't have to be enormous machines and bui..."
      ]
     },
     "execution_count": 5,
     "metadata": {},
     "output_type": "execute_result"
    }
   ],
   "source": [
    "df.head(5)"
   ]
  },
  {
   "cell_type": "code",
   "execution_count": 6,
   "metadata": {
    "pycharm": {
     "is_executing": false
    }
   },
   "outputs": [
    {
     "ename": "SyntaxError",
     "evalue": "invalid syntax (Temp/ipykernel_30204/280453993.py, line 1)",
     "output_type": "error",
     "traceback": [
      "\u001b[1;36m  File \u001b[1;32m\"C:\\Users\\radan\\AppData\\Local\\Temp/ipykernel_30204/280453993.py\"\u001b[1;36m, line \u001b[1;32m1\u001b[0m\n\u001b[1;33m    df.shape|\u001b[0m\n\u001b[1;37m             ^\u001b[0m\n\u001b[1;31mSyntaxError\u001b[0m\u001b[1;31m:\u001b[0m invalid syntax\n"
     ]
    }
   ],
   "source": [
    "df.shape"
   ]
  },
  {
   "cell_type": "markdown",
   "metadata": {},
   "source": [
    "## Preprocess Data\n",
    "\n",
    "For the given text data, the preprocessing consists of the following steps:\n",
    "\n",
    "* **Duplicates removal** - When displaying results, we do not want to get the same document more than once in the top results.\n",
    "* **Stop-word and punctuation removal** - Taking out the very common words (i.e. the, and) and the punctuation does not change the meaning of the text but helps with the processing speed."
   ]
  },
  {
   "cell_type": "markdown",
   "metadata": {},
   "source": [
    "### Drop duplicates"
   ]
  },
  {
   "cell_type": "code",
   "execution_count": 7,
   "metadata": {
    "pycharm": {
     "is_executing": false
    }
   },
   "outputs": [
    {
     "data": {
      "text/plain": [
       "(1641, 1)"
      ]
     },
     "execution_count": 7,
     "metadata": {},
     "output_type": "execute_result"
    }
   ],
   "source": [
    "df.drop_duplicates(keep='first', inplace=True)\n",
    "df.shape"
   ]
  },
  {
   "cell_type": "markdown",
   "metadata": {},
   "source": [
    "112 duplicate documents removed."
   ]
  },
  {
   "cell_type": "code",
   "execution_count": 8,
   "metadata": {
    "pycharm": {
     "is_executing": false
    },
    "scrolled": true
   },
   "outputs": [
    {
     "data": {
      "text/html": [
       "<div>\n",
       "<style scoped>\n",
       "    .dataframe tbody tr th:only-of-type {\n",
       "        vertical-align: middle;\n",
       "    }\n",
       "\n",
       "    .dataframe tbody tr th {\n",
       "        vertical-align: top;\n",
       "    }\n",
       "\n",
       "    .dataframe thead th {\n",
       "        text-align: right;\n",
       "    }\n",
       "</style>\n",
       "<table border=\"1\" class=\"dataframe\">\n",
       "  <thead>\n",
       "    <tr style=\"text-align: right;\">\n",
       "      <th></th>\n",
       "      <th>document</th>\n",
       "    </tr>\n",
       "  </thead>\n",
       "  <tbody>\n",
       "    <tr>\n",
       "      <th>0</th>\n",
       "      <td>It's only been 2 weeks since the worldwide lau...</td>\n",
       "    </tr>\n",
       "    <tr>\n",
       "      <th>1</th>\n",
       "      <td>Several motherboard makers have started adding...</td>\n",
       "    </tr>\n",
       "    <tr>\n",
       "      <th>2</th>\n",
       "      <td>After yesterday's preview, Qualcomm fully unve...</td>\n",
       "    </tr>\n",
       "    <tr>\n",
       "      <th>3</th>\n",
       "      <td>When AMD announced its Smart Access Memory, it...</td>\n",
       "    </tr>\n",
       "    <tr>\n",
       "      <th>4</th>\n",
       "      <td>PCs don't have to be enormous machines and bui...</td>\n",
       "    </tr>\n",
       "  </tbody>\n",
       "</table>\n",
       "</div>"
      ],
      "text/plain": [
       "                                            document\n",
       "0  It's only been 2 weeks since the worldwide lau...\n",
       "1  Several motherboard makers have started adding...\n",
       "2  After yesterday's preview, Qualcomm fully unve...\n",
       "3  When AMD announced its Smart Access Memory, it...\n",
       "4  PCs don't have to be enormous machines and bui..."
      ]
     },
     "execution_count": 8,
     "metadata": {},
     "output_type": "execute_result"
    }
   ],
   "source": [
    "# The model used later does not require case normalization, but for some models it increases the performance.\n",
    "# df['document'] = df['document'].apply(lambda doc : doc.lower()) \n",
    "df.head(5)"
   ]
  },
  {
   "cell_type": "markdown",
   "metadata": {},
   "source": []
  },
  {
   "cell_type": "code",
   "execution_count": 11,
   "metadata": {
    "pycharm": {
     "is_executing": false
    }
   },
   "outputs": [
    {
     "data": {
      "text/html": [
       "<div>\n",
       "<style scoped>\n",
       "    .dataframe tbody tr th:only-of-type {\n",
       "        vertical-align: middle;\n",
       "    }\n",
       "\n",
       "    .dataframe tbody tr th {\n",
       "        vertical-align: top;\n",
       "    }\n",
       "\n",
       "    .dataframe thead th {\n",
       "        text-align: right;\n",
       "    }\n",
       "</style>\n",
       "<table border=\"1\" class=\"dataframe\">\n",
       "  <thead>\n",
       "    <tr style=\"text-align: right;\">\n",
       "      <th></th>\n",
       "      <th>document</th>\n",
       "    </tr>\n",
       "  </thead>\n",
       "  <tbody>\n",
       "    <tr>\n",
       "      <th>0</th>\n",
       "      <td>Its 2 weeks since worldwide launch PS5 However...</td>\n",
       "    </tr>\n",
       "    <tr>\n",
       "      <th>1</th>\n",
       "      <td>Several motherboard makers started adding supp...</td>\n",
       "    </tr>\n",
       "    <tr>\n",
       "      <th>2</th>\n",
       "      <td>After yesterdays preview Qualcomm fully unveil...</td>\n",
       "    </tr>\n",
       "    <tr>\n",
       "      <th>3</th>\n",
       "      <td>When AMD announced Smart Access Memory sounded...</td>\n",
       "    </tr>\n",
       "    <tr>\n",
       "      <th>4</th>\n",
       "      <td>PCs enormous machines building compact PC easi...</td>\n",
       "    </tr>\n",
       "  </tbody>\n",
       "</table>\n",
       "</div>"
      ],
      "text/plain": [
       "                                            document\n",
       "0  Its 2 weeks since worldwide launch PS5 However...\n",
       "1  Several motherboard makers started adding supp...\n",
       "2  After yesterdays preview Qualcomm fully unveil...\n",
       "3  When AMD announced Smart Access Memory sounded...\n",
       "4  PCs enormous machines building compact PC easi..."
      ]
     },
     "execution_count": 11,
     "metadata": {},
     "output_type": "execute_result"
    }
   ],
   "source": [
    "clean_df = df.copy()\n",
    "\n",
    "clean_df['document'] = clean_df['document'].apply(lambda doc: preprocess(doc))\n",
    "clean_df.head(5)"
   ]
  },
  {
   "cell_type": "markdown",
   "metadata": {},
   "source": [
    "## Save Preprocessed Data"
   ]
  },
  {
   "cell_type": "code",
   "execution_count": 12,
   "metadata": {
    "pycharm": {
     "is_executing": false
    }
   },
   "outputs": [],
   "source": [
    "clean_df.to_csv('../data/articles_clean.csv', sep=',')"
   ]
  },
  {
   "cell_type": "markdown",
   "metadata": {},
   "source": [
    "# Model Selection\n",
    "\n",
    "The model used for this demonstration is part of the **sentence transformers** familiy of models. These models encode the meaning of the whole sentence/document in a fixed-size dense vector of floats (called the document embedding), which is in turn can be compared to other such embeddings to calculate a similarity score.  \n",
    "\n",
    "## Motivation \n",
    "\n",
    "Transformer/BERT based embedding methods have the advantage of adaptability, in the sense that the embedding of a word is not only influenced by the surrounding words during pre-training (as for word2vec/doc2vec models), but also at inference time.\n",
    "\n",
    "The advantage of these models when compared to more vanilla ones such as TF-IDF is that they work with the semantics of the words, and can find similarities in documents even if they do not contain *exactly* the terms in the query. This is very important, especially in domain-specific cases, where a multitude of terms refer to the same concept/abstraction.\n",
    "\n",
    "On the other hand, these models are usually considerable in size and processing time. To mitigate that, the model used for this demonstration is the **distilroberta-base** model. Compared to the best performing model provided by this API, it has a performance drop of 2%, but it comes with 30% less processing time.\n",
    "\n",
    "A description of all their models can be found [here](https://docs.google.com/spreadsheets/d/14QplCdTCDwEmTqrn1LH4yrbKvdogK4oQvYO1K1aPR5M/edit#gid=0)."
   ]
  },
  {
   "cell_type": "code",
   "execution_count": 13,
   "metadata": {},
   "outputs": [],
   "source": [
    "clean_df = pd.read_csv('../data/articles_clean.csv', sep=',')"
   ]
  },
  {
   "cell_type": "markdown",
   "metadata": {},
   "source": [
    "Import the SentenceTransformer API, create the SentenceTrasnformer object and embed the documents."
   ]
  },
  {
   "cell_type": "code",
   "execution_count": 14,
   "metadata": {},
   "outputs": [],
   "source": [
    "from sentence_transformers import SentenceTransformer\n",
    "\n",
    "embedding_net = SentenceTransformer('stsb-distilroberta-base-v2')\n",
    "document_embeddings = embedding_net.encode(clean_df['document'])"
   ]
  },
  {
   "cell_type": "code",
   "execution_count": 15,
   "metadata": {},
   "outputs": [
    {
     "data": {
      "text/plain": [
       "(1641, 768)"
      ]
     },
     "execution_count": 15,
     "metadata": {},
     "output_type": "execute_result"
    }
   ],
   "source": [
    "document_embeddings.shape"
   ]
  },
  {
   "cell_type": "markdown",
   "metadata": {},
   "source": [
    "Now each of the 1641 documents was transformed in a 768-dimensional vector which encapsulates its meaning."
   ]
  },
  {
   "cell_type": "markdown",
   "metadata": {},
   "source": [
    "### Similarity Metric\n",
    "\n",
    "Considering we are working with dense embedding vectors, the most appropriate metric is the cosine similarity. \n",
    "\n",
    "In order to see to which of the documents our query is more familiar to, we apply a vector-based similarity metric which calculates the \"angle\" between the embedding vectors. \n",
    "\n",
    "The smaller the angle between the embedding vectors is, the more similar are the corresponding documents."
   ]
  },
  {
   "cell_type": "code",
   "execution_count": 16,
   "metadata": {},
   "outputs": [],
   "source": [
    "import numpy as np\n",
    "\n",
    "from typing import Union\n",
    "\n",
    "def cosine_similarity(v1: Union[np.ndarray, list, float], \n",
    "                      v2: Union[np.ndarray, list, float]) -> float:\n",
    "\n",
    "    return np.dot(v1, v2) / (np.linalg.norm(v1) * np.linalg.norm(v2))\n",
    "\n",
    "\n",
    "def get_similar_documents(search_query: str, \n",
    "                          n_documents: int = 5) -> pd.Series:\n",
    "    \n",
    "    # Encode the query using the same network, in order to obtain an embedding.\n",
    "    query_embedding = embedding_net.encode(search_query)\n",
    "\n",
    "    # Compute the cosine similarities between the query embedding and the embedding of every document in the database.\n",
    "    cosine_similarities = [cosine_similarity(query_embedding, document_embedding) for document_embedding in document_embeddings]\n",
    "\n",
    "    # Index each embedding (to retrieve based on the index after sorting)\n",
    "    indexed_similarities = [(k, v) for k, v in enumerate(cosine_similarities)]\n",
    "\n",
    "    # Sort the tuples by the similarity value, but in reverse order (most similar first)\n",
    "    sorted_indexed_similarities = sorted(indexed_similarities, key=lambda x: x[1], reverse=True)\n",
    "    \n",
    "    # Take the indices of the first n_documents most similar documents and return the corresponding rows in the dataframe\n",
    "    indices = list(map(lambda x: x[0], sorted_indexed_similarities))[:n_documents]\n",
    "    \n",
    "    # Return the original documents, not the processed ones\n",
    "    return df.iloc[indices]"
   ]
  },
  {
   "cell_type": "markdown",
   "metadata": {},
   "source": [
    "## Proof-of-Concept Demo\n",
    "\n",
    "To perform the search, just replace the text after *search_query = [...]* and run the cell.\n",
    "\n",
    "The first cell returns the first 5 most similar documents as a dataframe/series, while the second cell prints the most similar document for verification. \n",
    "\n",
    "Although the search results may not contain the exact words in the query, they contain semantically similar terms, which makes their emebdding vector closer to the query."
   ]
  },
  {
   "cell_type": "code",
   "execution_count": 17,
   "metadata": {},
   "outputs": [
    {
     "data": {
      "text/html": [
       "<div>\n",
       "<style scoped>\n",
       "    .dataframe tbody tr th:only-of-type {\n",
       "        vertical-align: middle;\n",
       "    }\n",
       "\n",
       "    .dataframe tbody tr th {\n",
       "        vertical-align: top;\n",
       "    }\n",
       "\n",
       "    .dataframe thead th {\n",
       "        text-align: right;\n",
       "    }\n",
       "</style>\n",
       "<table border=\"1\" class=\"dataframe\">\n",
       "  <thead>\n",
       "    <tr style=\"text-align: right;\">\n",
       "      <th></th>\n",
       "      <th>document</th>\n",
       "    </tr>\n",
       "  </thead>\n",
       "  <tbody>\n",
       "    <tr>\n",
       "      <th>8</th>\n",
       "      <td>AMD has announced the long-awaited Big Navi gr...</td>\n",
       "    </tr>\n",
       "    <tr>\n",
       "      <th>78</th>\n",
       "      <td>AMD's RDNA2 GPUs land this morning, in the for...</td>\n",
       "    </tr>\n",
       "    <tr>\n",
       "      <th>1240</th>\n",
       "      <td>Fresh rumors are spreading about AMD's next-ge...</td>\n",
       "    </tr>\n",
       "    <tr>\n",
       "      <th>79</th>\n",
       "      <td>GIGABYTE TECHNOLOGY Co. Ltd, a leading manufac...</td>\n",
       "    </tr>\n",
       "    <tr>\n",
       "      <th>9</th>\n",
       "      <td>AMD has announced its much anticipated Big Nav...</td>\n",
       "    </tr>\n",
       "  </tbody>\n",
       "</table>\n",
       "</div>"
      ],
      "text/plain": [
       "                                               document\n",
       "8     AMD has announced the long-awaited Big Navi gr...\n",
       "78    AMD's RDNA2 GPUs land this morning, in the for...\n",
       "1240  Fresh rumors are spreading about AMD's next-ge...\n",
       "79    GIGABYTE TECHNOLOGY Co. Ltd, a leading manufac...\n",
       "9     AMD has announced its much anticipated Big Nav..."
      ]
     },
     "execution_count": 17,
     "metadata": {},
     "output_type": "execute_result"
    }
   ],
   "source": [
    "search_query = \"AMD Big Navi\"\n",
    "\n",
    "most_similar_documents = get_similar_documents(search_query)\n",
    "\n",
    "most_similar_documents"
   ]
  },
  {
   "cell_type": "code",
   "execution_count": 23,
   "metadata": {},
   "outputs": [
    {
     "data": {
      "text/plain": [
       "'AMD has announced the long-awaited Big Navi graphics card. The Radeon RX6800 costs $ 579 and the top-end 6900 XT costs $ 999, about 50% lower than the similarly performing GeForce RTX 3090. As with competing RTX 30 series components, there are a few things you need to know about new GPUs before deciding which GPU to buy.  Big Navi improves performance at 1440p compared to 4K  The Radeon RX 6000 graphics card supports 4K parts, but typically works more consistently at 1440p compared to its rival GeForce RTX 30 series products. It\\'s primarily because NVIDIA\\'s GPU has a wider bus (320 bits for the RTX 3080, 384 bits for the 3090) and GDDR6X memory, both of which offer significantly more bandwidth than the Navi 2x part. Because. Bandwidth is more important at high resolutions because large texture assets are always buffered with the VRAM buffer.  The Radeon RX 6800 XT is a sweet spot and could be the next bestseller  All three GPUs are decent products, but in terms of price / performance, the RX 6800XT is the best choice. You\\'ll get RTX 3080 levels of performance, probably $ 649 for $ 50 cheaper. In addition, the lack of RTX 30 Series cards means that most RTX 3080s sell $ 50-60 more than the suggested retail price of $ 699. The RX 6900 XT isn\\'t a bad choice unless you\\'re tied to money, but it\\'s hard to recommend the RX 6800. For an additional $ 79, it has won the RTX 3070\\'s competitors with potentially bad or similar ray tracing performance.  Infinity Cash is the secret and alternative to wider bass width and better ray tracing performance.  No one believed that AMD would pack a whopping 128MB L3 cache AKA Infinity Cache with a Big Navi graphics card. There were rumors, but it seemed to be there too. This large cache buffer is similar to the GameCache on a Ryzen 3000 CPU. By caching large amounts of data, it reduces the stress on the relatively small 256-bit bus and GDDR6 memory. Ray / box intersection data also tends to be very large and often chokes the small L0 and L1 caches dedicated to one or more compute units, which is also useful for ray tracing.  The Radeon RX 6000 graphics card works best with the Ryzen 5000 CPU, thanks to Smart Memory Access (SAM).  The Radeon RX 6000 GPU has what AMD calls Smart Memory Access or SAM. AMD Smart Memory Access improves game performance by up to 11%. But how does smart memory access work? If you are using an all-AMD system with a Ryzen 5000 CPU and a Radeon RX 6000 graphics card, the CPU can directly access the GPU memory subsystem via PCIe 4.0 lanes. The exact functionality isn\\'t clear, but it seems to be a proprietary solution similar to AMD SmartShift in the Renoir notebook. This allows the 500 Series chipset to bring the GPU and CPU closer together, reducing overhead and latency.  Introducing RAGE mode (No, not automatic overclocking-it\\'s another feature)  One of the new features introduced in the Radeon RX 6000 GPU is Rage mode. Providing high boosting headroom for GPUs improves performance by about 5-7%. No, it\\'s not automatic overclocking. It does not affect the base clock or boost clock. This allows the GPU to be boosted higher and stay there at longer intervals, much like Precision Boost Overdrive (PBO) works on Ryzen CPUs, with only a slight increase in the GPU\\'s power limit.  NVIDIA\\'s RTX 30 series \"Ampere\" graphics cards are (probably) slightly better in ray tracing  Thanks to the 2nd generation RT core, NVIDIA\\'s RTX 30 series GPUs may be better at accelerating ray tracing algorithms compared to Navi 2x parts. This is for two reasons. NVIDIA uses RTCore for both BVH acceleration and the intersection of rays and triangles, while AMD uses RT units for the latter only. The former uses a base shader or SIMD. In addition, NVIDIA\\'s Ampere architecture can run RTCores, shaders, and Tensor cores asynchronously. It\\'s unclear if AMD\\'s RT unit can do the same, but if it\\'s something like an Xbox Series X GPU, it shares a data path with the texture unit. That is, only one can be run per cycle. At the same time, for partner titles such as Far Cry 6 and Godfall, the performance of RDNA2 parts can be as good as or better than RTX 3080/3090, even when raytracing is turned on.  AMD is working on a DLSS alternative to turn on ray tracing to improve performance  AMD has also informed the media that it is working on an alternative to NVIDIA\\'s DLSS upscaling algorithm. It is open source and may benefit from the Big Navi GPU\\'s large Infinity cache. As far as I know, it is based on DirectML. AMD will combine this super-resolution technology with other FidelityFX tools such as Denoiser, CAS, Optimized AO and SSR to further improve both image quality and performance. Performance should be consistent with traditional upscaling technology that can double the input resolution. This is enough to allow the RX 6800XT and 6900XT to run even the most burdensome games on the 4K Ultra with raytracing turned on.  Radeon RX 6800 series will be available from November 18th  The Radeon RX 6800 and 6800 XT will be available in retail stores starting November 18th. Please note that these are the reference card launch dates and that third-party board partner GPUs will be available in December. It\\'s worth noting that the AIB Partner Card comes with a higher in-game boost clock, which improves performance by 7-12% compared to the reference model.  Radeon RX 6900 XT will be available on December 8th and will be exclusively for AMD for a month  The flagship card, the Radeon RX 6900 XT, will be available on December 8th, but for the time being, only the reference card will be displayed. The board partner variant will be available in January 2021. Like the RX6800 series, these models are faster and slightly more costly, so it might be worth the wait.  The Radeon RX 6700 series will be available in 2021 and will no longer come with an Infinity cache  The budget range Radeon RX 6700 and 6700 XT are expected to arrive in the first half of 2021 without Infinity Cache. Knowing the price of SRAM and the target resolutions of these parts are 1080p and 1440p, it comes with a 192 bit bus and as many computing units as the previous parts (5700 and 5700 XT). They may have a smaller Infinity cache of about 64MB, but not the entire 128MB.  Radeon RX 6800 series supply should be sufficient  Unlike NVIDIA\\'s RTX 3080/3090, the Radeon RX 6800 and 6800 XT will have sufficient supply in November, with the launch of board partners in December further boosting inventory. As far as the Radeon RX 6900 XT is concerned, only the reference card will be displayed for the time being. Supply is somewhat limited, but not as good as the RTX 3090. That shouldn\\'t be a problem, given that not many people buy a $ 999 graphics card.  Radeon RX 6000 series graphics card is more power efficient than rival NVIDIA RTX 30 series  For the first time since then, AMD\\'s GPU lineup is more power efficient than its rival GeForce stack. Both the RX 6800XT and 6900XT have a TBP of 300W, while the RTX3080 has a rated TBP of 320W. The TBP of the RTX3090 is 350W. In reality, both amp cards consume nearly 400W under load. It will be interesting to see how much the Big Navi Card draws under load.  Low thermal, low noise, few complications  The Radeon RX 6000 series cards are not only power efficient, they also have low thermal, quiet operation and a low form factor. This is not only because of its low TDP, but also because it uses GDDR6 memory that operates at a much lower temperature than the GDDR6x standard used by NVIDIA and Micron. In addition, back drilling, more power phases, and the use of other complex techniques to reduce interlayer noise also add to the overall heat.  Most big navigation graphics cards are offered in dual slot width, and the RX 6900XT is the largest with 2.5 slot width.  Unlike the GeForce RTX 3080 and 3090, which are the triple slot cards of most AIB partner cards, the Radeon RX 6800 XT does not exceed the dual slot factor of most board partner models, but the RX 6900 XT is maximal with 2.5 slot width. ..  What Are The Main Benefits Of Comparing Car Insurance Quotes Online'"
      ]
     },
     "execution_count": 23,
     "metadata": {},
     "output_type": "execute_result"
    }
   ],
   "source": [
    "most_similar_documents.iloc[0].document"
   ]
  },
  {
   "cell_type": "markdown",
   "metadata": {},
   "source": [
    "One possible reason for which document no. 9"
   ]
  }
 ],
 "metadata": {
  "kernelspec": {
   "display_name": "Python 3 (ipykernel)",
   "language": "python",
   "name": "python3"
  },
  "language_info": {
   "codemirror_mode": {
    "name": "ipython",
    "version": 3
   },
   "file_extension": ".py",
   "mimetype": "text/x-python",
   "name": "python",
   "nbconvert_exporter": "python",
   "pygments_lexer": "ipython3",
   "version": "3.7.5"
  },
  "pycharm": {
   "stem_cell": {
    "cell_type": "raw",
    "metadata": {
     "collapsed": false
    },
    "source": []
   }
  }
 },
 "nbformat": 4,
 "nbformat_minor": 1
}
